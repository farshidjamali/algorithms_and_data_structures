{
 "cells": [
  {
   "cell_type": "markdown",
   "metadata": {},
   "source": [
    "# Coding Problems\n",
    "\n",
    "## Objective\n",
    "\n",
    "This assignment aims to demonstrate how to study a data structures or algorithms question in depth to prepare for an industry coding interview. Leetcode is a popular coding practice site that many use to practice for technical interviews. Like behavioral interviews, it's important to practice and keep your skills sharp.\n",
    "\n",
    "## Group Size\n",
    "\n",
    "Please complete this individually.\n",
    "\n",
    "## Part 1:\n",
    "\n",
    "_*You will be assigned one of three problems based of your first name. Enter your first name, in all lower case, execute the code below, and that will tell you your assigned problem. Include the output as part of your submission (do not clear the output). The problems are based-off problems from Leetcode.*_\n"
   ]
  },
  {
   "cell_type": "code",
   "execution_count": 16,
   "metadata": {},
   "outputs": [
    {
     "name": "stdout",
     "output_type": "stream",
     "text": [
      "2\n"
     ]
    }
   ],
   "source": [
    "import hashlib\n",
    "\n",
    "def hash_to_range(input_string: str) -> int:\n",
    "     hash_object = hashlib.sha256(input_string.encode())\n",
    "     hash_int = int(hash_object.hexdigest(), 16)\n",
    "     return (hash_int % 3) + 1\n",
    "input_string = \"farshid\"\n",
    "result = hash_to_range(input_string)\n",
    "print(result)\n"
   ]
  },
  {
   "cell_type": "markdown",
   "metadata": {},
   "source": [
    "<details>\n",
    "  <summary>Question 1</summary>\n",
    "\n",
    "  # Question One: Check Duplicates in Tree\n",
    "\n",
    "  Given the `root` of a binary tree, check whether it is contains a duplicate value. If a duplicate exists, return the duplicate value. If there are multiple duplicates, return the one with the closest distance to the root. If no duplicate exists, return -1.\n",
    "\n",
    "  ## Examples\n",
    "\n",
    "  ### Example 1\n",
    "\n",
    "  ![](./images/q1_ex1.png)\n",
    "\n",
    "  Input: `root = [1, 2, 2, 3, 5, 6, 7]` *What traversal method is this?*\n",
    "\n",
    "  Output: 2\n",
    "\n",
    "  ### Example 2\n",
    "\n",
    "  ![](./images/q1_ex2.png)\n",
    "\n",
    "  Input: `root = [1, 10, 2, 3, 10, 12, 12]`\n",
    "\n",
    "  Output: 10\n",
    "\n",
    "  ### Example 3\n",
    "\n",
    "  ![](./images/q1_ex3.png)\n",
    "\n",
    "  Input: `root = [10, 9, 8, 7]`\n",
    "\n",
    "  Output: -1\n",
    "\n",
    "</details>\n",
    "\n",
    "#### Starter Code for Question 1"
   ]
  },
  {
   "cell_type": "code",
   "execution_count": 30,
   "metadata": {},
   "outputs": [
    {
     "ename": "IndentationError",
     "evalue": "expected an indented block (2850872121.py, line 8)",
     "output_type": "error",
     "traceback": [
      "\u001b[1;36m  Cell \u001b[1;32mIn[30], line 8\u001b[1;36m\u001b[0m\n\u001b[1;33m    # TODO\u001b[0m\n\u001b[1;37m          ^\u001b[0m\n\u001b[1;31mIndentationError\u001b[0m\u001b[1;31m:\u001b[0m expected an indented block\n"
     ]
    }
   ],
   "source": [
    "# Definition for a binary tree node.\n",
    "# class TreeNode(object):\n",
    "#     def __init__(self, val = 0, left = None, right = None):\n",
    "#         self.val = val\n",
    "#         self.left = left\n",
    "#         self.right = right\n",
    "def is_duplicate(root: TreeNode) -> int:\n",
    "  # TODO"
   ]
  },
  {
   "cell_type": "markdown",
   "metadata": {},
   "source": [
    "<details>\n",
    "  <summary>Question 2</summary>\n",
    "\n",
    "  # Question Two: Path to Leaves\n",
    "\n",
    "  Given the `root` of a binary tree, return all root to leaf paths in any order.\n",
    "\n",
    "  ## Examples\n",
    "\n",
    "  ### Example 1\n",
    "\n",
    "  ![](./images/q1_ex1.png)\n",
    "\n",
    "  Input: `root = [1, 2, 2, 3, 5, 6, 7]` *What traversal method is this?*\n",
    "\n",
    "  Output: [[1, 2, 3], [1, 2, 5], [1, 2, 6], [1, 2, 7]]\n",
    "\n",
    "  ### Example 2\n",
    "\n",
    "  ![](./images/q1_ex3.png)\n",
    "\n",
    "  Input: `root = [10, 9, 7, 8]`\n",
    "\n",
    "  Output: [[10, 7], [10, 9, 8]]\n",
    "\n",
    "</details>\n",
    "\n",
    "#### Starter Code for Question 2"
   ]
  },
  {
   "cell_type": "code",
   "execution_count": 26,
   "metadata": {},
   "outputs": [],
   "source": [
    "#  Definition for a binary tree node.\n",
    "class TreeNode(object):\n",
    "    def __init__(self, val = 0, left = None, right = None):\n",
    "        self.val = val\n",
    "        self.left = left\n",
    "        self.right = right"
   ]
  },
  {
   "cell_type": "code",
   "execution_count": null,
   "metadata": {},
   "outputs": [],
   "source": [
    "root=TreeNode(val=1)\n",
    "root.left=TreeNode(val=2)\n",
    "root.right=TreeNode(val=2)\n",
    "root.left.left=TreeNode(val=3)\n",
    "root.left.right=TreeNode(val=5)\n",
    "root.right.left=TreeNode(val=6)\n",
    "root.right.right=TreeNode(val=7)"
   ]
  },
  {
   "cell_type": "code",
   "execution_count": 24,
   "metadata": {},
   "outputs": [
    {
     "name": "stdout",
     "output_type": "stream",
     "text": [
      "node 1\n",
      "path [1]\n",
      "all paths []\n",
      "node 10\n",
      "path [1, 10]\n",
      "all paths []\n",
      "node 3\n",
      "path [1, 10, 3]\n",
      "all paths []\n",
      "node 10\n",
      "path [1, 10, 10]\n",
      "all paths [[1, 10, 3]]\n",
      "node 2\n",
      "path [1, 2]\n",
      "all paths [[1, 10, 3], [1, 10, 10]]\n",
      "node 12\n",
      "path [1, 2, 12]\n",
      "all paths [[1, 10, 3], [1, 10, 10]]\n",
      "node 12\n",
      "path [1, 2, 12]\n",
      "all paths [[1, 10, 3], [1, 10, 10], [1, 2, 12]]\n",
      "final list of all paths: [[1, 10, 3], [1, 10, 10], [1, 2, 12], [1, 2, 12]]\n"
     ]
    }
   ],
   "source": [
    "# Definition for a binary tree node.\n",
    "# class TreeNode(object):\n",
    "#     def __init__(self, val = 0, left = None, right = None):\n",
    "#         self.val = val\n",
    "#         self.left = left\n",
    "#         self.right = right\n",
    "\n",
    "#preorder traversal\n",
    "def bt_path(root: TreeNode) -> list[list[int]]:\n",
    "  # TODO\n",
    "\n",
    "  def dfs(node:TreeNode, path , allpaths):\n",
    "\n",
    "    if node:\n",
    "      path.append(node.val)\n",
    "      print(\"node\",node.val)\n",
    "      print(\"path\",path)\n",
    "      print(\"all paths\", allpaths)\n",
    "\n",
    "    if node.left:\n",
    "      dfs(node.left, path,allpaths)\n",
    "      path.pop()\n",
    "\n",
    "    if node.right:\n",
    "      dfs(node.right, path, allpaths)\n",
    "      path.pop()\n",
    "\n",
    "    if not node.right and not node.left:\n",
    "      allpaths.append (path[:])\n",
    "\n",
    "    return allpaths\n",
    "  \n",
    "  path=[]\n",
    "  allpaths=[]\n",
    "  path=dfs(root,path,allpaths)\n",
    "\n",
    "  return allpaths\n",
    "\n",
    "\n",
    "btree_paths = []\n",
    "btree_paths = bt_path(root)\n",
    "print(\"final list of all paths:\", btree_paths)"
   ]
  },
  {
   "cell_type": "markdown",
   "metadata": {},
   "source": [
    "<details>\n",
    "  <summary>Question 3</summary>\n",
    "\n",
    "  # Question Three: Missing Number in Range\n",
    " \n",
    "  You are given a list containing `n` integers in the range `[0, n]`. Return a list of numbers that are missing from the range `[0, n]` of the array. If there is no missing number, return -1. Note, all the integers in the list may not be unique.\n",
    "  \n",
    "  ## Examples\n",
    "\n",
    "  ### Example 1\n",
    "\n",
    "  Input: `lst = [0, 2]`\n",
    "\n",
    "  Output: [1]\n",
    "\n",
    "  ### Example 2\n",
    "\n",
    "  Input: `lst = [5, 0, 1]`\n",
    "\n",
    "  Output: [2, 3, 4]\n",
    "\n",
    "  ### Example 3\n",
    "\n",
    "  Input: `lst = [6, 8, 2, 3, 5, 7, 0, 1, 10]`\n",
    "\n",
    "  Output: [4, 9]\n",
    "\n",
    "</details>\n",
    "\n",
    "#### Starter Code for Question 3\n"
   ]
  },
  {
   "cell_type": "code",
   "execution_count": null,
   "metadata": {},
   "outputs": [],
   "source": [
    "def missing_num(nums: List) -> int:\n",
    "  # TODO"
   ]
  },
  {
   "cell_type": "markdown",
   "metadata": {},
   "source": [
    "\n",
    "## Part 2:\n",
    "\n",
    "-   Paraphrase the problem in your own words\n"
   ]
  },
  {
   "cell_type": "code",
   "execution_count": null,
   "metadata": {},
   "outputs": [],
   "source": [
    "# Your answer here\n",
    "# The code defines a function to perform a depth-first search (DFS) traversal on a binary tree.\n",
    "# The function `bt_path` takes a `root` of a binary tree and returns a list of all root-to-leaf paths.\n",
    "# Inside `bt_path`, a nested helper function `dfs` is defined to recursively explore the tree."
   ]
  },
  {
   "cell_type": "markdown",
   "metadata": {},
   "source": [
    "- In this .ipynb file, there are examples that illustrate how the code should work (the examples provided above). Create 2 new examples for the question you have been assigned, that demonstrate you understand the problem. For question 1 and 2, you don't need to create the tree demonstration, just the input and output.\n"
   ]
  },
  {
   "cell_type": "code",
   "execution_count": null,
   "metadata": {},
   "outputs": [],
   "source": [
    "# Your answer here\n",
    "root=TreeNode(val=1)\n",
    "root.left=TreeNode(val=10)\n",
    "root.right=TreeNode(val=2)\n",
    "root.left.left=TreeNode(val=3)\n",
    "root.left.right=TreeNode(val=10)\n",
    "root.right.left=TreeNode(val=12)\n",
    "root.right.right=TreeNode(val=12)\n",
    "\n",
    "final list of all paths: [[1, 10, 3], [1, 10, 10], [1, 2, 12], [1, 2, 12]]\n",
    "\n",
    "root=TreeNode(val=2)\n",
    "root.left=TreeNode(val=2)\n",
    "root.right=TreeNode(val=2)\n",
    "root.left.left=TreeNode(val=8)\n",
    "root.left.right=TreeNode(val=10)\n",
    "root.right.left=TreeNode(val=6)\n",
    "root.right.right=TreeNode(val=9)\n",
    "\n",
    "final list of all paths: [[2, 2, 8], [2, 2, 10], [2, 2, 6], [2, 2, 9]]"
   ]
  },
  {
   "cell_type": "markdown",
   "metadata": {},
   "source": [
    "\n",
    "-   Code the solution to your assigned problem in Python (code chunk). Try to find the best time and space complexity solution!\n"
   ]
  },
  {
   "cell_type": "code",
   "execution_count": null,
   "metadata": {},
   "outputs": [],
   "source": [
    "# Your answer here\n",
    "#preorder traversal\n",
    "def bt_path(root: TreeNode) -> list[list[int]]:\n",
    "  # TODO\n",
    "\n",
    "  def dfs(node:TreeNode, path , allpaths):\n",
    "\n",
    "    if node:\n",
    "      path.append(node.val)\n",
    "      print(\"node\",node.val)\n",
    "      print(\"path\",path)\n",
    "      print(\"all paths\", allpaths)\n",
    "\n",
    "    if node.left:\n",
    "      dfs(node.left, path,allpaths)\n",
    "      path.pop()\n",
    "\n",
    "    if node.right:\n",
    "      dfs(node.right, path, allpaths)\n",
    "      path.pop()\n",
    "\n",
    "    if not node.right and not node.left:\n",
    "      allpaths.append (path[:])\n",
    "\n",
    "    return allpaths\n",
    "  \n",
    "  path=[]\n",
    "  allpaths=[]\n",
    "  path=dfs(root,path,allpaths)\n",
    "\n",
    "  return allpaths\n",
    "\n",
    "\n",
    "btree_paths = []\n",
    "btree_paths = bt_path(root)\n",
    "print(\"final list of all paths:\", btree_paths)"
   ]
  },
  {
   "cell_type": "markdown",
   "metadata": {},
   "source": [
    "# Explain why your solution works\n",
    "# The solution applies depth-first search (DFS) to navigate the binary tree, \n",
    "# starting from the root to all leaf nodes. It builds paths by adding node values and \n",
    "# backtracks to explore other branches by removing the most recent node from the path. Once a leaf node is reached, \n",
    "# the path is stored in a list of all paths. \n",
    "# This approach effectively identifies and returns every root-to-leaf path in the tree."
   ]
  },
  {
   "cell_type": "markdown",
   "metadata": {},
   "source": [
    "\n",
    "-   Explain the problem’s time and space complexity\n"
   ]
  },
  {
   "cell_type": "code",
   "execution_count": null,
   "metadata": {},
   "outputs": [],
   "source": [
    "# Your answer here\n",
    "time comexity: O(N) visiting each node once\n",
    "space complexity: O(N+L) each node once at node to each root(L)"
   ]
  },
  {
   "cell_type": "markdown",
   "metadata": {},
   "source": [
    "\n",
    "-   Explain the thinking to an alternative solution (no coding required, but a classmate reading this should be able to code it up based off your text)\n"
   ]
  },
  {
   "cell_type": "markdown",
   "metadata": {},
   "source": [
    "# Your answer here\n",
    "# In this alternative approach, instead of using recursion, I employ an iterative method with \n",
    "# a stack to simulate depth-first search. I begin by initializing a stack that will hold tuples containing a node \n",
    "# and the path leading to it. Starting with the root node and an empty path list, I push the root onto the stack.\n",
    "# The stack is then processed iteratively, where each iteration involves popping a node and its corresponding path.\n",
    "# If the current node is a leaf, meaning it has no left or right children, I append the path\n",
    "# to a list of valid root-to-leaf paths. If the node has a right child, I push the right child along with \n",
    "# the updated path onto the stack, followed by the left child if it exists. This order ensures that I process \n",
    "# the left child first, mimicking a depth-first traversal. The stack continues to process nodes until it’s empty. \n",
    "# By the end of the process, I will have a list containing all the root-to-leaf paths. This iterative method \n",
    "# avoids recursion depth limitations and gives me better control over the traversal process."
   ]
  },
  {
   "cell_type": "markdown",
   "metadata": {},
   "source": [
    "## Evaluation Criteria\n",
    "\n",
    "-   Problem is accurately stated\n",
    "\n",
    "-   Two examples are correct and easily understandable\n",
    "\n",
    "-   Correctness, time, and space complexity of the coding solution\n",
    "\n",
    "-   Clarity in explaining why the solution works, its time and space complexity\n",
    "\n",
    "-   Clarity in the proposal to the alternative solution"
   ]
  },
  {
   "cell_type": "markdown",
   "metadata": {},
   "source": [
    "## Submission Information\n",
    "\n",
    "🚨 **Please review our [Assignment Submission Guide](https://github.com/UofT-DSI/onboarding/blob/main/onboarding_documents/submissions.md)** 🚨 for detailed instructions on how to format, branch, and submit your work. Following these guidelines is crucial for your submissions to be evaluated correctly.\n",
    "\n",
    "### Submission Parameters:\n",
    "* Submission Due Date: `HH:MM AM/PM - DD/MM/YYYY`\n",
    "* The branch name for your repo should be: `assignment-1`\n",
    "* What to submit for this assignment:\n",
    "    * This Jupyter Notebook (assignment_1.ipynb) should be populated and should be the only change in your pull request.\n",
    "* What the pull request link should look like for this assignment: `https://github.com/<your_github_username>/algorithms_and_data_structures/pull/<pr_id>`\n",
    "    * Open a private window in your browser. Copy and paste the link to your pull request into the address bar. Make sure you can see your pull request properly. This helps the technical facilitator and learning support staff review your submission easily.\n",
    "\n",
    "Checklist:\n",
    "- [ ] Create a branch called `assignment-1`.\n",
    "- [ ] Ensure that the repository is public.\n",
    "- [ ] Review [the PR description guidelines](https://github.com/UofT-DSI/onboarding/blob/main/onboarding_documents/submissions.md#guidelines-for-pull-request-descriptions) and adhere to them.\n",
    "- [ ] Verify that the link is accessible in a private browser window.\n",
    "\n",
    "If you encounter any difficulties or have questions, please don't hesitate to reach out to our team via our Slack at `#cohort-3-help`. Our Technical Facilitators and Learning Support staff are here to help you navigate any challenges."
   ]
  }
 ],
 "metadata": {
  "kernelspec": {
   "display_name": "dsi_participant",
   "language": "python",
   "name": "python3"
  },
  "language_info": {
   "codemirror_mode": {
    "name": "ipython",
    "version": 3
   },
   "file_extension": ".py",
   "mimetype": "text/x-python",
   "name": "python",
   "nbconvert_exporter": "python",
   "pygments_lexer": "ipython3",
   "version": "3.9.15"
  }
 },
 "nbformat": 4,
 "nbformat_minor": 2
}
